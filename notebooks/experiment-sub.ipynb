{
 "cells": [
  {
   "cell_type": "code",
   "execution_count": 2,
   "id": "f3840a4c",
   "metadata": {},
   "outputs": [],
   "source": [
    "import prepare_circuit as pc\n",
    "import pyzx as zx\n",
    "import statistics\n",
    "import multiprocessing\n",
    "import multiprocess as mp\n",
    "def count_t_depth(json):\n",
    "    g = zx.graph.graph_s.GraphS.from_json(json)\n",
    "    zx.full_reduce(g)\n",
    "    g.normalize()\n",
    "    c_opt = zx.extract_circuit(g.copy())\n",
    "    print(c_opt.stats())\n",
    "    after = pc.count_t_depth(c_opt.to_graph().to_json())\n",
    "    return after\n",
    "def experiment(size, count):\n",
    "    jsons = pc.uniform_layered(size, count)\n",
    "    before = pc.count_t_depth(jsons[0])\n",
    "    with mp.Pool(multiprocessing.cpu_count()) as pool:\n",
    "        afters = pool.map(count_t_depth, jsons)\n",
    "    mean = statistics.mean(afters)\n",
    "    stdev = statistics.pstdev(afters)\n",
    "    return {\"size\":size, \"count\": count, \"before\": before, \"mean\": mean, \"stdev\": stdev}\n",
    "def print_result(result_dict):\n",
    "    size = result_dict[\"size\"]\n",
    "    count = result_dict[\"count\"]\n",
    "    before = result_dict[\"before\"]\n",
    "    mean = result_dict[\"mean\"]\n",
    "    stdev = result_dict[\"stdev\"]\n",
    "    print(\"stat: size ->\", 2**size, \", count ->\", count)\n",
    "    print(\"before t-depth:\", before)\n",
    "    print(\"after t-depth:\", mean, \"+/-\", stdev)\n",
    "    imp = (1 - mean/before)*100\n",
    "    print(\"improvement: \", imp, \"%\")"
   ]
  },
  {
   "cell_type": "code",
   "execution_count": null,
   "id": "48da4717",
   "metadata": {},
   "outputs": [],
   "source": [
    "result_test = experiment(4, 1)\n",
    "print_result(result_test)"
   ]
  },
  {
   "cell_type": "code",
   "execution_count": null,
   "id": "b5101763",
   "metadata": {},
   "outputs": [],
   "source": [
    "result_test = experiment(5, 10)\n",
    "print_result(result_test)"
   ]
  },
  {
   "cell_type": "code",
   "execution_count": null,
   "id": "fc0c3f1a",
   "metadata": {},
   "outputs": [],
   "source": [
    "result_test = experiment(6, 10)\n",
    "print_result(result_test)"
   ]
  },
  {
   "cell_type": "code",
   "execution_count": 6,
   "id": "b248345f",
   "metadata": {},
   "outputs": [],
   "source": [
    "result_16 = experiment(4, 100)\n",
    "print_result(result_16)"
   ]
  },
  {
   "cell_type": "code",
   "execution_count": 7,
   "id": "9fbd67d7",
   "metadata": {},
   "outputs": [],
   "source": [
    "result_32 = experiment(5, 100)\n",
    "print_result(result_32)"
   ]
  },
  {
   "cell_type": "code",
   "execution_count": 8,
   "id": "3b33af35",
   "metadata": {},
   "outputs": [],
   "source": [
    "result_64 = experiment(6, 100)\n",
    "print_result(result_64)"
   ]
  }
 ],
 "metadata": {
  "kernelspec": {
   "display_name": "Python 3 (ipykernel)",
   "language": "python",
   "name": "python3"
  },
  "language_info": {
   "codemirror_mode": {
    "name": "ipython",
    "version": 3
   },
   "file_extension": ".py",
   "mimetype": "text/x-python",
   "name": "python",
   "nbconvert_exporter": "python",
   "pygments_lexer": "ipython3",
   "version": "3.9.11"
  }
 },
 "nbformat": 4,
 "nbformat_minor": 5
}
