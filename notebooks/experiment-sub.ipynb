{
 "cells": [
  {
   "cell_type": "code",
   "execution_count": 1,
   "id": "f3840a4c",
   "metadata": {},
   "outputs": [
    {
     "name": "stdout",
     "output_type": "stream",
     "text": [
      "version 1.0.0\n"
     ]
    }
   ],
   "source": [
    "import prepare_circuit as pc\n",
    "import pyzx as zx\n",
    "import statistics\n",
    "import multiprocessing\n",
    "import multiprocess as mp\n",
    "def count_t_depth(json):\n",
    "    g = zx.graph.graph_s.GraphS.from_json(json)\n",
    "    zx.full_reduce(g)\n",
    "    g.normalize()\n",
    "    c_opt = zx.extract_circuit(g.copy())\n",
    "    print(c_opt.stats())\n",
    "    after = pc.count_t_depth(c_opt.to_graph().to_json())\n",
    "    return after\n",
    "def experiment(size, count):\n",
    "    jsons = pc.uniform_layered(size, count)\n",
    "    before = pc.count_t_depth(jsons[0])\n",
    "    with mp.Pool(multiprocessing.cpu_count()) as pool:\n",
    "        afters = pool.map(count_t_depth, jsons)\n",
    "    mean = statistics.mean(afters)\n",
    "    stdev = statistics.pstdev(afters)\n",
    "    return {\"size\":size, \"count\": count, \"before\": before, \"mean\": mean, \"stdev\": stdev}\n",
    "def print_result(result_dict):\n",
    "    size = result_dict[\"size\"]\n",
    "    count = result_dict[\"count\"]\n",
    "    before = result_dict[\"before\"]\n",
    "    mean = result_dict[\"mean\"]\n",
    "    stdev = result_dict[\"stdev\"]\n",
    "    print(\"stat: size ->\", 2**size, \", count ->\", count)\n",
    "    print(\"before t-depth:\", before)\n",
    "    print(\"after t-depth:\", mean, \"+/-\", stdev)\n",
    "    imp = (1 - mean/before)*100\n",
    "    print(\"improvement: \", imp, \"%\")"
   ]
  },
  {
   "cell_type": "code",
   "execution_count": 2,
   "id": "48da4717",
   "metadata": {},
   "outputs": [
    {
     "name": "stdout",
     "output_type": "stream",
     "text": [
      "Circuit  on 13 qubits with 646 gates.\n",
      "        120 is the T-count\n",
      "        526 Cliffords among which \n",
      "        277 2-qubit gates (135 CNOT, 142 other) and\n",
      "        238 Hadamard gates.\n",
      "Circuit  on 13 qubits with 631 gates.\n",
      "        120 is the T-count\n",
      "        511 Cliffords among which \n",
      "        267 2-qubit gates (143 CNOT, 124 other) and\n",
      "        238 Hadamard gates.\n",
      "Circuit  on 13 qubits with 611 gates.\n",
      "        120 is the T-count\n",
      "        491 Cliffords among which \n",
      "        246 2-qubit gates (141 CNOT, 105 other) and\n",
      "        238 Hadamard gates.\n",
      "Circuit  on 13 qubits with 647 gates.\n",
      "        120 is the T-count\n",
      "        527 Cliffords among which \n",
      "        283 2-qubit gates (172 CNOT, 111 other) and\n",
      "        238 Hadamard gates.\n",
      "Circuit  on 13 qubits with 639 gates.\n",
      "        120 is the T-count\n",
      "        519 Cliffords among which \n",
      "        271 2-qubit gates (181 CNOT, 90 other) and\n",
      "        238 Hadamard gates.\n",
      "Circuit  on 13 qubits with 651 gates.\n",
      "        120 is the T-count\n",
      "        531 Cliffords among which \n",
      "        285 2-qubit gates (159 CNOT, 126 other) and\n",
      "        238 Hadamard gates.\n",
      "Circuit  on 13 qubits with 627 gates.\n",
      "        120 is the T-count\n",
      "        507 Cliffords among which \n",
      "        262 2-qubit gates (130 CNOT, 132 other) and\n",
      "        238 Hadamard gates.\n",
      "Circuit  on 13 qubits with 621 gates.\n",
      "        120 is the T-count\n",
      "        501 Cliffords among which \n",
      "        256 2-qubit gates (153 CNOT, 103 other) and\n",
      "        238 Hadamard gates.\n",
      "Circuit  on 13 qubits with 601 gates.\n",
      "        120 is the T-count\n",
      "        481 Cliffords among which \n",
      "        233 2-qubit gates (150 CNOT, 83 other) and\n",
      "        238 Hadamard gates.\n",
      "Circuit  on 13 qubits with 611 gates.\n",
      "        120 is the T-count\n",
      "        491 Cliffords among which \n",
      "        249 2-qubit gates (167 CNOT, 82 other) and\n",
      "        238 Hadamard gates.\n",
      "stat: size -> 16 , count -> 10\n",
      "before t-depth: 92\n",
      "after t-depth: 81.2 +/- 6.029925372672534\n",
      "improvement:  11.739130434782608 %\n"
     ]
    }
   ],
   "source": [
    "result_test = experiment(4, 10)\n",
    "print_result(result_test)"
   ]
  },
  {
   "cell_type": "code",
   "execution_count": 3,
   "id": "b5101763",
   "metadata": {},
   "outputs": [
    {
     "name": "stdout",
     "output_type": "stream",
     "text": [
      "Circuit  on 16 qubits with 1223 gates.\n",
      "        248 is the T-count\n",
      "        975 Cliffords among which \n",
      "        497 2-qubit gates (320 CNOT, 177 other) and\n",
      "        468 Hadamard gates.\n",
      "Circuit  on 16 qubits with 1255 gates.\n",
      "        248 is the T-count\n",
      "        1007 Cliffords among which \n",
      "        523 2-qubit gates (335 CNOT, 188 other) and\n",
      "        468 Hadamard gates.\n",
      "Circuit  on 16 qubits with 1280 gates.\n",
      "        248 is the T-count\n",
      "        1032 Cliffords among which \n",
      "        552 2-qubit gates (328 CNOT, 224 other) and\n",
      "        468 Hadamard gates.\n",
      "Circuit  on 16 qubits with 1284 gates.\n",
      "        248 is the T-count\n",
      "        1036 Cliffords among which \n",
      "        561 2-qubit gates (331 CNOT, 230 other) and\n",
      "        468 Hadamard gates.\n",
      "Circuit  on 16 qubits with 1228 gates.\n",
      "        248 is the T-count\n",
      "        980 Cliffords among which \n",
      "        503 2-qubit gates (324 CNOT, 179 other) and\n",
      "        468 Hadamard gates.\n",
      "Circuit  on 16 qubits with 1272 gates.\n",
      "        248 is the T-count\n",
      "        1024 Cliffords among which \n",
      "        546 2-qubit gates (350 CNOT, 196 other) and\n",
      "        468 Hadamard gates.\n",
      "Circuit  on 16 qubits with 1254 gates.\n",
      "        248 is the T-count\n",
      "        1006 Cliffords among which \n",
      "        530 2-qubit gates (327 CNOT, 203 other) and\n",
      "        468 Hadamard gates.\n",
      "Circuit  on 16 qubits with 1309 gates.\n",
      "        248 is the T-count\n",
      "        1061 Cliffords among which \n",
      "        583 2-qubit gates (381 CNOT, 202 other) and\n",
      "        468 Hadamard gates.\n",
      "Circuit  on 16 qubits with 1209 gates.\n",
      "        248 is the T-count\n",
      "        961 Cliffords among which \n",
      "        485 2-qubit gates (280 CNOT, 205 other) and\n",
      "        468 Hadamard gates.\n",
      "Circuit  on 16 qubits with 1273 gates.\n",
      "        248 is the T-count\n",
      "        1025 Cliffords among which \n",
      "        550 2-qubit gates (336 CNOT, 214 other) and\n",
      "        468 Hadamard gates.\n",
      "stat: size -> 32 , count -> 10\n",
      "before t-depth: 188\n",
      "after t-depth: 162.7 +/- 7.156116265125938\n",
      "improvement:  13.457446808510642 %\n"
     ]
    }
   ],
   "source": [
    "result_test = experiment(5, 10)\n",
    "print_result(result_test)"
   ]
  },
  {
   "cell_type": "code",
   "execution_count": 4,
   "id": "fc0c3f1a",
   "metadata": {},
   "outputs": [
    {
     "name": "stdout",
     "output_type": "stream",
     "text": [
      "Circuit  on 19 qubits with 2456 gates.\n",
      "        504 is the T-count\n",
      "        1952 Cliffords among which \n",
      "        1019 2-qubit gates (672 CNOT, 347 other) and\n",
      "        922 Hadamard gates.\n",
      "Circuit  on 19 qubits with 2519 gates.\n",
      "        504 is the T-count\n",
      "        2015 Cliffords among which \n",
      "        1078 2-qubit gates (651 CNOT, 427 other) and\n",
      "        922 Hadamard gates.\n",
      "Circuit  on 19 qubits with 2458 gates.\n",
      "        504 is the T-count\n",
      "        1954 Cliffords among which \n",
      "        1019 2-qubit gates (682 CNOT, 337 other) and\n",
      "        922 Hadamard gates.\n",
      "Circuit  on 19 qubits with 2424 gates.\n",
      "        504 is the T-count\n",
      "        1920 Cliffords among which \n",
      "        988 2-qubit gates (683 CNOT, 305 other) and\n",
      "        922 Hadamard gates.\n",
      "Circuit  on 19 qubits with 2473 gates.\n",
      "        504 is the T-count\n",
      "        1969 Cliffords among which \n",
      "        1037 2-qubit gates (696 CNOT, 341 other) and\n",
      "        922 Hadamard gates.\n",
      "Circuit  on 19 qubits with 2492 gates.\n",
      "        504 is the T-count\n",
      "        1988 Cliffords among which \n",
      "        1053 2-qubit gates (693 CNOT, 360 other) and\n",
      "        922 Hadamard gates.\n",
      "Circuit  on 19 qubits with 2445 gates.\n",
      "        504 is the T-count\n",
      "        1941 Cliffords among which \n",
      "        1010 2-qubit gates (688 CNOT, 322 other) and\n",
      "        922 Hadamard gates.\n",
      "Circuit  on 19 qubits with 2575 gates.\n",
      "        504 is the T-count\n",
      "        2071 Cliffords among which \n",
      "        1138 2-qubit gates (755 CNOT, 383 other) and\n",
      "        922 Hadamard gates.\n",
      "Circuit  on 19 qubits with 2534 gates.\n",
      "        504 is the T-count\n",
      "        2030 Cliffords among which \n",
      "        1093 2-qubit gates (740 CNOT, 353 other) and\n",
      "        922 Hadamard gates.\n",
      "Circuit  on 19 qubits with 2520 gates.\n",
      "        504 is the T-count\n",
      "        2016 Cliffords among which \n",
      "        1085 2-qubit gates (697 CNOT, 388 other) and\n",
      "        922 Hadamard gates.\n",
      "stat: size -> 64 , count -> 10\n",
      "before t-depth: 380\n",
      "after t-depth: 325 +/- 10.535653752852738\n",
      "improvement:  14.473684210526317 %\n"
     ]
    }
   ],
   "source": [
    "result_test = experiment(6, 10)\n",
    "print_result(result_test)"
   ]
  },
  {
   "cell_type": "code",
   "execution_count": 6,
   "id": "b248345f",
   "metadata": {},
   "outputs": [],
   "source": [
    "result_16 = experiment(4, 100)\n",
    "print_result(result_16)"
   ]
  },
  {
   "cell_type": "code",
   "execution_count": 7,
   "id": "9fbd67d7",
   "metadata": {},
   "outputs": [],
   "source": [
    "result_32 = experiment(5, 100)\n",
    "print_result(result_32)"
   ]
  },
  {
   "cell_type": "code",
   "execution_count": 8,
   "id": "3b33af35",
   "metadata": {},
   "outputs": [],
   "source": [
    "result_64 = experiment(6, 100)\n",
    "print_result(result_64)"
   ]
  }
 ],
 "metadata": {
  "kernelspec": {
   "display_name": "Python 3 (ipykernel)",
   "language": "python",
   "name": "python3"
  },
  "language_info": {
   "codemirror_mode": {
    "name": "ipython",
    "version": 3
   },
   "file_extension": ".py",
   "mimetype": "text/x-python",
   "name": "python",
   "nbconvert_exporter": "python",
   "pygments_lexer": "ipython3",
   "version": "3.9.14"
  }
 },
 "nbformat": 4,
 "nbformat_minor": 5
}
