{
 "cells": [
  {
   "cell_type": "code",
   "execution_count": 1,
   "id": "52b633f7",
   "metadata": {},
   "outputs": [],
   "source": [
    "import prepare_circuit as pc\n",
    "import pyzx as zx\n",
    "from qiskit import QuantumCircuit\n",
    "import statistics\n",
    "import multiprocessing\n",
    "import multiprocess as mp\n",
    "from __future__ import annotations\n",
    "from qiskit import QuantumCircuit, assemble\n",
    "import numpy as np\n",
    "import sys\n",
    "def _parse_qobj_dict(qasm: str) -> dict:\n",
    "    \"\"\"Parse qasm to qobj_dict\n",
    "\n",
    "    Args:\n",
    "        qasm (str): qasm string\n",
    "    Returns:\n",
    "        dict: qobj dict\n",
    "    \"\"\"\n",
    "    qiskit_circuit = QuantumCircuit.from_qasm_str(qasm)\n",
    "    qobj = assemble(qiskit_circuit)\n",
    "    qobj_dict = qobj.to_dict()\n",
    "    return qobj_dict\n",
    "def _check_angle(value: float) -> str:\n",
    "    \"\"\"Check type of rotation angle\n",
    "    Args:\n",
    "        value (float): rotation angle\n",
    "    Returns:\n",
    "        str: Any of \"T\", \"Clifford\", \"Pauli\", \"Identity\"\n",
    "    \"\"\"\n",
    "    eps = 1e-10\n",
    "    value = value % (2*np.pi)\n",
    "    assert(-eps < value and value < 2*np.pi+eps)\n",
    "    if abs(value - np.pi/4) < eps or abs(value - 3*np.pi/4) < eps or abs(value - 5*np.pi/4) < eps or abs(value - 7*np.pi/4) < eps:\n",
    "        return \"T\"\n",
    "    elif abs(value - 2*np.pi/4) < eps or abs(value - 6*np.pi/4) < eps:\n",
    "        return \"Clifford\"\n",
    "    elif abs(value - 4*np.pi/4) < eps:\n",
    "        return \"Pauli\"\n",
    "    elif abs(value) < eps or abs(value - 8*np.pi/4) < eps:\n",
    "        return \"Identity\"\n",
    "    else:\n",
    "        return \"Unknown\"\n",
    "def _evaluate(num_qubit: int, instructions: list) -> tuple[int, int]:\n",
    "    \"\"\"Retrun T-gate count and depth\n",
    "    Args:\n",
    "        num_qubit (int): num of qubits\n",
    "        instructions (list): list of Qobj instructions\n",
    "    Returns:\n",
    "        tuple[int, int]: pair of T-gate count and depth\n",
    "    \"\"\"\n",
    "    depth_counter = [0 for _ in range(num_qubit)]\n",
    "    tgate_count = 0\n",
    "    for inst in instructions:\n",
    "        if inst[\"name\"] in [\"rz\", \"ry\", \"rz\"]:\n",
    "            assert(len(inst[\"params\"]) == 1)\n",
    "            assert(len(inst[\"qubits\"]) == 1)\n",
    "            angle = inst[\"params\"][0]\n",
    "            target = inst[\"qubits\"][0]\n",
    "            angle_type = _check_angle(angle)\n",
    "            if angle_type == \"T\":\n",
    "                tgate_count += 1\n",
    "                depth_counter[target] += 1\n",
    "            # elif angle_type == \"Unknown\":\n",
    "            #     print(f\"Unexpected rotation angle: {inst}\", file=sys.stderr)\n",
    "        elif inst[\"name\"] in [\"t\", \"tdg\"]:\n",
    "            assert(len(inst[\"qubits\"]) == 1)\n",
    "            target = inst[\"qubits\"][0]\n",
    "            tgate_count += 1\n",
    "            depth_counter[target] += 1\n",
    "        elif inst[\"name\"] in [\"h\", \"s\", \"sdg\", \"x\", \"y\", \"z\"]:\n",
    "            continue\n",
    "        elif inst[\"name\"] in [\"cz\", \"cx\"]:\n",
    "            assert(len(inst[\"qubits\"]) == 2)\n",
    "            target0 = inst[\"qubits\"][0]\n",
    "            target1 = inst[\"qubits\"][1]\n",
    "            sync_count = max(depth_counter[target0], depth_counter[target1])\n",
    "            depth_counter[target0] = sync_count\n",
    "            depth_counter[target1] = sync_count\n",
    "        # else:\n",
    "        #     print(f\"Unexpected instruction: {inst}\", file=sys.stderr)\n",
    "    tgate_depth = max(depth_counter)\n",
    "    return tgate_count, tgate_depth\n",
    "def count_tgate(qasm: str) -> tuple[int, int]:\n",
    "    \"\"\"count tgate from qasm string\n",
    "    Args:\n",
    "        qasm (str): qasm string\n",
    "    Returns:\n",
    "        tuple[int, int]: tgate_count and tgate_depth\n",
    "    \"\"\"\n",
    "    qobj_dict = _parse_qobj_dict(qasm)\n",
    "    num_qubit = qobj_dict[\"config\"][\"n_qubits\"]\n",
    "    assert(len(qobj_dict[\"experiments\"]) == 1)\n",
    "    instructions = qobj_dict[\"experiments\"][0][\"instructions\"]\n",
    "    tgate_count, tgate_depth = _evaluate(num_qubit, instructions)\n",
    "    return tgate_count, tgate_depth\n",
    "def count_tdepth(qasm: str) -> int:\n",
    "    \"\"\"count tdepth from qasm string\n",
    "    Args:\n",
    "        qasm (str): qasm string\n",
    "    Returns:\n",
    "        int: tdepth\n",
    "    \"\"\"\n",
    "    return count_tgate(qasm)[1]"
   ]
  },
  {
   "cell_type": "code",
   "execution_count": 2,
   "id": "c10e40f0",
   "metadata": {},
   "outputs": [
    {
     "name": "stdout",
     "output_type": "stream",
     "text": [
      "Rust: 15\n",
      "QASM: 15\n"
     ]
    }
   ],
   "source": [
    "qubit_amount = 6\n",
    "gate_count = 200\n",
    "graph = zx.generate.cliffordT(qubit_amount, gate_count)\n",
    "circuit = zx.Circuit.from_graph(graph)\n",
    "json = circuit.to_graph().to_json()\n",
    "qasm_str = circuit.to_qasm()\n",
    "rust_count = pc.count_t_depth(json)\n",
    "qasm_count = count_tdepth(qasm_str)\n",
    "print(f\"Rust: {rust_count}\")\n",
    "print(f\"QASM: {qasm_count}\")"
   ]
  },
  {
   "cell_type": "code",
   "execution_count": 3,
   "id": "1a58e253",
   "metadata": {},
   "outputs": [
    {
     "name": "stdout",
     "output_type": "stream",
     "text": [
      "Rust: 380\n",
      "QASM: 380\n"
     ]
    }
   ],
   "source": [
    "qasm_str = pc.uniform_layered_qasm(6, 1)[0]\n",
    "circuit = zx.qasm(qasm_str)\n",
    "json = circuit.to_graph().to_json()\n",
    "rust_count = pc.count_t_depth(json)\n",
    "qasm_count = count_tdepth(qasm_str)\n",
    "print(f\"Rust: {rust_count}\")\n",
    "print(f\"QASM: {qasm_count}\")"
   ]
  }
 ],
 "metadata": {
  "kernelspec": {
   "display_name": "Python 3.9.14 ('04_prepare-circuit-dA2R2Wo9')",
   "language": "python",
   "name": "python3"
  },
  "language_info": {
   "codemirror_mode": {
    "name": "ipython",
    "version": 3
   },
   "file_extension": ".py",
   "mimetype": "text/x-python",
   "name": "python",
   "nbconvert_exporter": "python",
   "pygments_lexer": "ipython3",
   "version": "3.9.14"
  },
  "vscode": {
   "interpreter": {
    "hash": "82372b7afc66d724bc479055f96414d7c6da269bbcb2cf9422b87c08d5cc0971"
   }
  }
 },
 "nbformat": 4,
 "nbformat_minor": 5
}
