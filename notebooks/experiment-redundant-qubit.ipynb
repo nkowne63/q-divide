{
 "cells": [
  {
   "cell_type": "code",
   "execution_count": 1,
   "metadata": {},
   "outputs": [
    {
     "name": "stdout",
     "output_type": "stream",
     "text": [
      "version 1.0.0\n"
     ]
    }
   ],
   "source": [
    "import prepare_circuit as pc\n",
    "import pyzx as zx\n",
    "import statistics\n",
    "import multiprocessing\n",
    "import multiprocess as mp\n",
    "# code by Y.Suzuki\n",
    "from __future__ import annotations\n",
    "from qiskit import QuantumCircuit, assemble\n",
    "import numpy as np\n",
    "import sys\n",
    "def _parse_qobj_dict(qasm: str) -> dict:\n",
    "    \"\"\"Parse qasm to qobj_dict\n",
    "\n",
    "    Args:\n",
    "        qasm (str): qasm string\n",
    "    Returns:\n",
    "        dict: qobj dict\n",
    "    \"\"\"\n",
    "    qiskit_circuit = QuantumCircuit.from_qasm_str(qasm)\n",
    "    qobj = assemble(qiskit_circuit)\n",
    "    qobj_dict = qobj.to_dict()\n",
    "    return qobj_dict\n",
    "def _check_angle(value: float) -> str:\n",
    "    \"\"\"Check type of rotation angle\n",
    "    Args:\n",
    "        value (float): rotation angle\n",
    "    Returns:\n",
    "        str: Any of \"T\", \"Clifford\", \"Pauli\", \"Identity\"\n",
    "    \"\"\"\n",
    "    eps = 1e-10\n",
    "    value = value % (2*np.pi)\n",
    "    assert(-eps < value and value < 2*np.pi+eps)\n",
    "    if abs(value - np.pi/4) < eps or abs(value - 3*np.pi/4) < eps or abs(value - 5*np.pi/4) < eps or abs(value - 7*np.pi/4) < eps:\n",
    "        return \"T\"\n",
    "    elif abs(value - 2*np.pi/4) < eps or abs(value - 6*np.pi/4) < eps:\n",
    "        return \"Clifford\"\n",
    "    elif abs(value - 4*np.pi/4) < eps:\n",
    "        return \"Pauli\"\n",
    "    elif abs(value) < eps or abs(value - 8*np.pi/4) < eps:\n",
    "        return \"Identity\"\n",
    "    else:\n",
    "        return \"Unknown\"\n",
    "def _evaluate(num_qubit: int, instructions: list) -> tuple[int, int]:\n",
    "    \"\"\"Retrun T-gate count and depth\n",
    "    Args:\n",
    "        num_qubit (int): num of qubits\n",
    "        instructions (list): list of Qobj instructions\n",
    "    Returns:\n",
    "        tuple[int, int]: pair of T-gate count and depth\n",
    "    \"\"\"\n",
    "    depth_counter = [0 for _ in range(num_qubit)]\n",
    "    tgate_count = 0\n",
    "    for inst in instructions:\n",
    "        if inst[\"name\"] in [\"rz\", \"ry\", \"rz\"]:\n",
    "            assert(len(inst[\"params\"]) == 1)\n",
    "            assert(len(inst[\"qubits\"]) == 1)\n",
    "            angle = inst[\"params\"][0]\n",
    "            target = inst[\"qubits\"][0]\n",
    "            angle_type = _check_angle(angle)\n",
    "            if angle_type == \"T\":\n",
    "                tgate_count += 1\n",
    "                depth_counter[target] += 1\n",
    "            elif angle_type == \"Unknown\":\n",
    "                print(f\"Unexpected rotation angle: {inst}\", file=sys.stderr)\n",
    "        elif inst[\"name\"] in [\"t\", \"tdg\"]:\n",
    "            assert(len(inst[\"qubits\"]) == 1)\n",
    "            target = inst[\"qubits\"][0]\n",
    "            tgate_count += 1\n",
    "            depth_counter[target] += 1\n",
    "        elif inst[\"name\"] in [\"h\", \"s\", \"sdg\", \"x\", \"y\", \"z\"]:\n",
    "            continue\n",
    "        elif inst[\"name\"] in [\"cz\", \"cx\"]:\n",
    "            assert(len(inst[\"qubits\"]) == 2)\n",
    "            target0 = inst[\"qubits\"][0]\n",
    "            target1 = inst[\"qubits\"][1]\n",
    "            sync_count = max(depth_counter[target0], depth_counter[target1])\n",
    "            depth_counter[target0] = sync_count\n",
    "            depth_counter[target1] = sync_count\n",
    "        else:\n",
    "            print(f\"Unexpected instruction: {inst}\", file=sys.stderr)\n",
    "    tgate_depth = max(depth_counter)\n",
    "    return tgate_count, tgate_depth\n",
    "def count_tgate(qasm: str) -> tuple[int, int]:\n",
    "    \"\"\"count tgate from qasm string\n",
    "    Args:\n",
    "        qasm (str): qasm string\n",
    "    Returns:\n",
    "        tuple[int, int]: tgate_count and tgate_depth\n",
    "    \"\"\"\n",
    "    qobj_dict = _parse_qobj_dict(qasm)\n",
    "    num_qubit = qobj_dict[\"config\"][\"n_qubits\"]\n",
    "    assert(len(qobj_dict[\"experiments\"]) == 1)\n",
    "    instructions = qobj_dict[\"experiments\"][0][\"instructions\"]\n",
    "    tgate_count, tgate_depth = _evaluate(num_qubit, instructions)\n",
    "    return tgate_count, tgate_depth\n",
    "# code by R.Tokami\n",
    "def count_t_depth(json):\n",
    "    g = zx.graph.graph_s.GraphS.from_json(json)\n",
    "    zx.full_reduce(g)\n",
    "    g.normalize()\n",
    "    c_opt = zx.extract_circuit(g.copy())\n",
    "    print(c_opt.stats())\n",
    "    after = pc.count_t_depth(c_opt.to_graph().to_json())\n",
    "    return after\n",
    "def experiment(size, count):\n",
    "    jsons = pc.uniform_layered(size, count)\n",
    "    before = pc.count_t_depth(jsons[0])\n",
    "    with mp.Pool(multiprocessing.cpu_count()) as pool:\n",
    "        afters = pool.map(count_t_depth, jsons)\n",
    "    mean = statistics.mean(afters)\n",
    "    stdev = statistics.pstdev(afters)\n",
    "    return {\"size\":size, \"count\": count, \"before\": before, \"mean\": mean, \"stdev\": stdev}\n",
    "def print_result(result_dict):\n",
    "    size = result_dict[\"size\"]\n",
    "    count = result_dict[\"count\"]\n",
    "    before = result_dict[\"before\"]\n",
    "    mean = result_dict[\"mean\"]\n",
    "    stdev = result_dict[\"stdev\"]\n",
    "    print(\"stat: size ->\", 2**size, \", count ->\", count)\n",
    "    print(\"before t-depth:\", before)\n",
    "    print(\"after t-depth:\", mean, \"+/-\", stdev)\n",
    "    imp = (1 - mean/before)*100\n",
    "    print(\"improvement: \", imp, \"%\")\n",
    "# code of qasm\n",
    "def reduce_qasm(qasm_str):\n",
    "    qasm_circuit = zx.Circuit.from_qasm(qasm_str)\n",
    "    g = qasm_circuit.to_graph()\n",
    "#     zx.draw(g) # draw circuit\n",
    "    zx.full_reduce(g)\n",
    "    g.normalize()\n",
    "    c_opt = zx.extract_circuit(g.copy())\n",
    "#     zx.draw(c_opt.to_graph()) # draw after circuit\n",
    "    after = pc.count_t_depth(c_opt.to_graph().to_json())\n",
    "    return after\n",
    "def experiment_qasm_redundant(size, count, redundant):\n",
    "    qasms = pc.uniform_layered_redundant(size, count, redundant)\n",
    "    # before = statistics.mean(list(map(lambda qasm: count_tgate(qasm)[1], qasms)))\n",
    "    before = statistics.mean(list(map(lambda qasm_str: pc.count_t_depth(zx.Circuit.from_qasm(qasm_str).to_graph().to_json()), qasms)))\n",
    "    with mp.Pool(multiprocessing.cpu_count()) as pool:\n",
    "        afters = pool.map(reduce_qasm, qasms)\n",
    "    mean = statistics.mean(afters)\n",
    "    stdev = statistics.pstdev(afters)\n",
    "    return {\"size\":size, \"count\": count, \"before\": before, \"mean\": mean, \"stdev\": stdev}"
   ]
  },
  {
   "cell_type": "code",
   "execution_count": 2,
   "metadata": {},
   "outputs": [],
   "source": [
    "# qasm = pc.uniform_layered_redundant(4, 1, 26)[0]\n",
    "# before = count_tgate(qasm)[1]\n",
    "# after = reduce_qasm(qasm)\n",
    "# print(before, after)"
   ]
  },
  {
   "cell_type": "code",
   "execution_count": 8,
   "metadata": {},
   "outputs": [
    {
     "name": "stdout",
     "output_type": "stream",
     "text": [
      "redundant_targets count: 13\n",
      "redundant_targets count: 13\n",
      "redundant_targets count: 13\n",
      "redundant_targets count: 13\n",
      "redundant_targets count: 13\n",
      "redundant_targets count: 13\n",
      "redundant_targets count: 13\n",
      "redundant_targets count: 13\n",
      "redundant_targets count: 13\n",
      "redundant_targets count: 13\n",
      "stat: size -> 16 , count -> 10\n",
      "before t-depth: 92\n",
      "after t-depth: 77 +/- 0.0\n",
      "improvement:  16.30434782608695 %\n"
     ]
    }
   ],
   "source": [
    "result_test = experiment_qasm_redundant(4, 10, 13)\n",
    "print_result(result_test)"
   ]
  },
  {
   "cell_type": "code",
   "execution_count": 11,
   "metadata": {},
   "outputs": [
    {
     "name": "stdout",
     "output_type": "stream",
     "text": [
      "redundant_targets count: 16\n",
      "redundant_targets count: 16\n",
      "redundant_targets count: 16\n",
      "redundant_targets count: 16\n",
      "redundant_targets count: 16\n",
      "redundant_targets count: 16\n",
      "redundant_targets count: 16\n",
      "redundant_targets count: 16\n",
      "redundant_targets count: 16\n",
      "redundant_targets count: 16\n",
      "stat: size -> 32 , count -> 10\n",
      "before t-depth: 188\n",
      "after t-depth: 179 +/- 0.0\n",
      "improvement:  4.78723404255319 %\n"
     ]
    }
   ],
   "source": [
    "result_test = experiment_qasm_redundant(5, 10, 16)\n",
    "print_result(result_test)"
   ]
  },
  {
   "cell_type": "code",
   "execution_count": 12,
   "metadata": {},
   "outputs": [
    {
     "name": "stdout",
     "output_type": "stream",
     "text": [
      "redundant_targets count: 19\n",
      "redundant_targets count: 19\n",
      "redundant_targets count: 19\n",
      "redundant_targets count: 19\n",
      "redundant_targets count: 19\n",
      "redundant_targets count: 19\n",
      "redundant_targets count: 19\n",
      "redundant_targets count: 19\n",
      "redundant_targets count: 19\n",
      "redundant_targets count: 19\n",
      "stat: size -> 64 , count -> 10\n",
      "before t-depth: 380\n",
      "after t-depth: 347 +/- 0.0\n",
      "improvement:  8.684210526315795 %\n"
     ]
    }
   ],
   "source": [
    "result_test = experiment_qasm_redundant(6, 10, 19)\n",
    "print_result(result_test)"
   ]
  },
  {
   "cell_type": "code",
   "execution_count": null,
   "metadata": {},
   "outputs": [],
   "source": []
  }
 ],
 "metadata": {
  "kernelspec": {
   "display_name": "Python 3 (ipykernel)",
   "language": "python",
   "name": "python3"
  },
  "language_info": {
   "codemirror_mode": {
    "name": "ipython",
    "version": 3
   },
   "file_extension": ".py",
   "mimetype": "text/x-python",
   "name": "python",
   "nbconvert_exporter": "python",
   "pygments_lexer": "ipython3",
   "version": "3.9.14"
  },
  "vscode": {
   "interpreter": {
    "hash": "82372b7afc66d724bc479055f96414d7c6da269bbcb2cf9422b87c08d5cc0971"
   }
  }
 },
 "nbformat": 4,
 "nbformat_minor": 2
}
