{
 "cells": [
  {
   "cell_type": "code",
   "execution_count": 1,
   "id": "7419abfe",
   "metadata": {},
   "outputs": [
    {
     "name": "stdout",
     "output_type": "stream",
     "text": [
      "prepare-circuit version 1.0.12\n"
     ]
    }
   ],
   "source": [
    "from tgate_counter import count_tgate\n",
    "from prepare_circuit import uniform_layered_m_body, dist_select_m_body\n",
    "from statistics import mean, pstdev\n",
    "from multiprocessing import cpu_count\n",
    "# 標準のmultiprocessingの代わりにmpを使わないとトップスコープの名前が解決されない\n",
    "import multiprocess as mp\n",
    "import pyzx as zx\n",
    "\n",
    "def print_result(result_dict):\n",
    "    size = result_dict[\"size\"]\n",
    "    count = result_dict[\"count\"]\n",
    "    before = result_dict[\"before\"]\n",
    "    mean = result_dict[\"mean\"]\n",
    "    stdev = result_dict[\"stdev\"]\n",
    "    parallel = result_dict[\"parallel\"]\n",
    "    print(\"=====\")\n",
    "    print(\"stat: size ->\", 2**size, \", count ->\", count, \", parallel ->\", parallel)\n",
    "    print(\"before t-depth:\", before)\n",
    "    print(\"after t-depth:\", mean, \"+/-\", stdev)\n",
    "    imp = (1 - mean/before)*100\n",
    "    print(\"improvement: \", imp, \"%\")\n",
    "\n",
    "def reduce_qasm(qasm_str: str) -> int:\n",
    "    qasm_circuit = zx.Circuit.from_qasm(qasm_str)\n",
    "    g = qasm_circuit.to_graph()\n",
    "    zx.draw(g) # draw circuit\n",
    "    zx.full_reduce(g)\n",
    "    g.normalize()\n",
    "    c_opt = zx.extract_circuit(g.copy())\n",
    "    after_qasm = c_opt.to_qasm()\n",
    "    return count_tgate(after_qasm)[1]\n",
    "\n",
    "def experiment_m_body(size: int, interaction: int, parallel: int, count: int):\n",
    "    # prepare qasms before optimization\n",
    "    before_qasms: list[str] = []\n",
    "    for _ in range(count):\n",
    "        if parallel == 0:\n",
    "            qasm = uniform_layered_m_body(size, interaction)\n",
    "        else:\n",
    "            qasm = dist_select_m_body(size, interaction, parallel)\n",
    "        before_qasms.append(qasm)\n",
    "    before = mean([count_tgate(qasm)[1] for qasm in before_qasms])\n",
    "    # concurrent optimization\n",
    "    with mp.Pool(cpu_count()) as pool:\n",
    "        afters: list[int] = pool.map(reduce_qasm, before_qasms)\n",
    "    avg = mean(afters)\n",
    "    stdev = pstdev(afters)\n",
    "    return {\n",
    "        \"size\": size,\n",
    "        \"count\": count,\n",
    "        \"before\": before,\n",
    "        \"mean\": avg,\n",
    "        \"stdev\": stdev,\n",
    "        \"parallel\": parallel\n",
    "    }"
   ]
  },
  {
   "cell_type": "code",
   "execution_count": 2,
   "id": "8dd09d28",
   "metadata": {},
   "outputs": [
    {
     "name": "stdout",
     "output_type": "stream",
     "text": [
      "=====\n",
      "stat: size -> 16 , count -> 10 , parallel -> 0\n",
      "before t-depth: 92\n",
      "after t-depth: 98.1 +/- 3.3896902513356584\n",
      "improvement:  -6.630434782608696 %\n",
      "=====\n",
      "stat: size -> 16 , count -> 10 , parallel -> 1\n",
      "before t-depth: 92\n",
      "after t-depth: 86.9 +/- 9.730878685915265\n",
      "improvement:  5.543478260869561 %\n"
     ]
    }
   ],
   "source": [
    "print_result(experiment_m_body(4, 1, 0, 10))\n",
    "print_result(experiment_m_body(4, 1, 1, 10))\n",
    "print_result(experiment_m_body(4, 1, 2, 10))\n",
    "print_result(experiment_m_body(4, 1, 3, 10))"
   ]
  }
 ],
 "metadata": {
  "kernelspec": {
   "display_name": "04_prepare-circuit-dA2R2Wo9",
   "language": "python",
   "name": "python3"
  },
  "language_info": {
   "codemirror_mode": {
    "name": "ipython",
    "version": 3
   },
   "file_extension": ".py",
   "mimetype": "text/x-python",
   "name": "python",
   "nbconvert_exporter": "python",
   "pygments_lexer": "ipython3",
   "version": "3.9.15"
  },
  "vscode": {
   "interpreter": {
    "hash": "82372b7afc66d724bc479055f96414d7c6da269bbcb2cf9422b87c08d5cc0971"
   }
  }
 },
 "nbformat": 4,
 "nbformat_minor": 5
}
