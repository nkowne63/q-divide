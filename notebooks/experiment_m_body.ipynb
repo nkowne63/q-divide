{
 "cells": [
  {
   "cell_type": "code",
   "execution_count": 3,
   "id": "7419abfe",
   "metadata": {},
   "outputs": [],
   "source": [
    "from tgate_counter import count_tgate\n",
    "from prepare_circuit import uniform_layered_m_body, dist_select_m_body\n",
    "from statistics import mean, pstdev\n",
    "from multiprocessing import cpu_count\n",
    "# 標準のmultiprocessingの代わりにmpを使わないとトップスコープの名前が解決されない\n",
    "import multiprocess as mp\n",
    "import pyzx as zx\n",
    "\n",
    "def print_result(result_dict):\n",
    "    size = result_dict[\"size\"]\n",
    "    count = result_dict[\"count\"]\n",
    "    before = result_dict[\"before\"]\n",
    "    mean = result_dict[\"mean\"]\n",
    "    stdev = result_dict[\"stdev\"]\n",
    "    parallel = result_dict[\"parallel\"]\n",
    "    print(\"=====\")\n",
    "    print(\"stat: size ->\", 2**size, \", count ->\", count, \", parallel ->\", parallel)\n",
    "    print(\"before t-depth:\", before)\n",
    "    print(\"after t-depth:\", mean, \"+/-\", stdev)\n",
    "    imp = (1 - mean/before)*100\n",
    "    print(\"improvement: \", imp, \"%\")\n",
    "\n",
    "def reduce_qasm(qasm_str: str) -> int:\n",
    "    qasm_circuit = zx.Circuit.from_qasm(qasm_str)\n",
    "    g = qasm_circuit.to_graph()\n",
    "    zx.draw(g) # draw circuit\n",
    "    zx.full_reduce(g)\n",
    "    g.normalize()\n",
    "    c_opt = zx.extract_circuit(g.copy())\n",
    "    after_qasm = c_opt.to_qasm()\n",
    "    return count_tgate(after_qasm)[1]\n",
    "\n",
    "def experiment_m_body(size: int, interaction: int, parallel: int, count: int):\n",
    "    # prepare qasms before optimization\n",
    "    before_qasms: list[str] = []\n",
    "    for _ in range(count):\n",
    "        if parallel == 0:\n",
    "            qasm = uniform_layered_m_body(size, interaction)\n",
    "        else:\n",
    "            qasm = dist_select_m_body(size, interaction, parallel)\n",
    "        before_qasms.append(qasm)\n",
    "    before = mean([count_tgate(qasm)[1] for qasm in before_qasms])\n",
    "    # concurrent optimization\n",
    "    with mp.Pool(cpu_count()) as pool:\n",
    "        afters: list[int] = pool.map(reduce_qasm, before_qasms)\n",
    "    avg = mean(afters)\n",
    "    stdev = pstdev(afters)\n",
    "    return {\n",
    "        \"size\": size,\n",
    "        \"count\": count,\n",
    "        \"before\": before,\n",
    "        \"mean\": avg,\n",
    "        \"stdev\": stdev,\n",
    "        \"parallel\": parallel\n",
    "    }"
   ]
  },
  {
   "cell_type": "code",
   "execution_count": 4,
   "id": "8dd09d28",
   "metadata": {},
   "outputs": [
    {
     "name": "stdout",
     "output_type": "stream",
     "text": [
      "=====\n",
      "stat: size -> 16 , count -> 10 , parallel -> 0\n",
      "before t-depth: 92\n",
      "after t-depth: 98 +/- 4.427188724235731\n",
      "improvement:  -6.521739130434789 %\n",
      "=====\n",
      "stat: size -> 16 , count -> 10 , parallel -> 1\n",
      "before t-depth: 92\n",
      "after t-depth: 91.2 +/- 11.565465835840769\n",
      "improvement:  0.8695652173912993 %\n",
      "=====\n",
      "stat: size -> 16 , count -> 10 , parallel -> 2\n",
      "before t-depth: 38\n",
      "after t-depth: 70.2 +/- 8.55336191213724\n",
      "improvement:  -84.73684210526315 %\n",
      "=====\n",
      "stat: size -> 16 , count -> 10 , parallel -> 3\n",
      "before t-depth: 44\n",
      "after t-depth: 88.6 +/- 11.29778739399888\n",
      "improvement:  -101.36363636363637 %\n"
     ]
    }
   ],
   "source": [
    "print_result(experiment_m_body(4, 1, 0, 10))\n",
    "print_result(experiment_m_body(4, 1, 1, 10))\n",
    "print_result(experiment_m_body(4, 1, 2, 10))\n",
    "print_result(experiment_m_body(4, 1, 3, 10))"
   ]
  },
  {
   "cell_type": "code",
   "execution_count": 5,
   "id": "1f282633",
   "metadata": {},
   "outputs": [
    {
     "name": "stdout",
     "output_type": "stream",
     "text": [
      "=====\n",
      "stat: size -> 16 , count -> 10 , parallel -> 0\n",
      "before t-depth: 92\n",
      "after t-depth: 97.7 +/- 3.5791060336346563\n",
      "improvement:  -6.195652173913047 %\n",
      "=====\n",
      "stat: size -> 16 , count -> 10 , parallel -> 1\n",
      "before t-depth: 92\n",
      "after t-depth: 92.1 +/- 11.335342959081565\n",
      "improvement:  -0.10869565217390686 %\n",
      "=====\n",
      "stat: size -> 16 , count -> 10 , parallel -> 2\n",
      "before t-depth: 38.8\n",
      "after t-depth: 68 +/- 7.483314773547883\n",
      "improvement:  -75.2577319587629 %\n"
     ]
    }
   ],
   "source": [
    "print_result(experiment_m_body(4, 2, 0, 10))\n",
    "print_result(experiment_m_body(4, 2, 1, 10))\n",
    "print_result(experiment_m_body(4, 2, 2, 10))"
   ]
  },
  {
   "cell_type": "code",
   "execution_count": 6,
   "id": "41721d06",
   "metadata": {},
   "outputs": [
    {
     "name": "stdout",
     "output_type": "stream",
     "text": [
      "=====\n",
      "stat: size -> 16 , count -> 10 , parallel -> 0\n",
      "before t-depth: 92\n",
      "after t-depth: 99.3 +/- 3.606937759374287\n",
      "improvement:  -7.934782608695645 %\n",
      "=====\n",
      "stat: size -> 16 , count -> 10 , parallel -> 1\n",
      "before t-depth: 92\n",
      "after t-depth: 92.3 +/- 11.75627492022877\n",
      "improvement:  -0.3260869565217428 %\n",
      "=====\n",
      "stat: size -> 16 , count -> 10 , parallel -> 2\n",
      "before t-depth: 38.8\n",
      "after t-depth: 72.4 +/- 7.418894796396563\n",
      "improvement:  -86.59793814432992 %\n"
     ]
    }
   ],
   "source": [
    "print_result(experiment_m_body(4, 3, 0, 10))\n",
    "print_result(experiment_m_body(4, 3, 1, 10))\n",
    "print_result(experiment_m_body(4, 3, 2, 10))"
   ]
  },
  {
   "cell_type": "code",
   "execution_count": 7,
   "id": "e0592011",
   "metadata": {},
   "outputs": [
    {
     "name": "stdout",
     "output_type": "stream",
     "text": [
      "=====\n",
      "stat: size -> 32 , count -> 10 , parallel -> 0\n",
      "before t-depth: 188\n",
      "after t-depth: 201.8 +/- 5.418486873657627\n",
      "improvement:  -7.340425531914896 %\n",
      "=====\n",
      "stat: size -> 32 , count -> 10 , parallel -> 1\n",
      "before t-depth: 188\n",
      "after t-depth: 150.3 +/- 27.19577173017894\n",
      "improvement:  20.053191489361698 %\n",
      "=====\n",
      "stat: size -> 32 , count -> 10 , parallel -> 2\n",
      "before t-depth: 62\n",
      "after t-depth: 127.3 +/- 18.708554193202637\n",
      "improvement:  -105.3225806451613 %\n"
     ]
    }
   ],
   "source": [
    "print_result(experiment_m_body(5, 1, 0, 10))\n",
    "print_result(experiment_m_body(5, 1, 1, 10))\n",
    "print_result(experiment_m_body(5, 1, 2, 10))"
   ]
  },
  {
   "cell_type": "code",
   "execution_count": 9,
   "id": "9ff9eb8e",
   "metadata": {},
   "outputs": [
    {
     "name": "stdout",
     "output_type": "stream",
     "text": [
      "=====\n",
      "stat: size -> 32 , count -> 10 , parallel -> 0\n",
      "before t-depth: 188\n",
      "after t-depth: 201.6 +/- 7.045565981523415\n",
      "improvement:  -7.234042553191489 %\n",
      "=====\n",
      "stat: size -> 32 , count -> 10 , parallel -> 1\n",
      "before t-depth: 188\n",
      "after t-depth: 185.2 +/- 23.886397802933786\n",
      "improvement:  1.4893617021276673 %\n",
      "=====\n",
      "stat: size -> 32 , count -> 10 , parallel -> 2\n",
      "before t-depth: 71.6\n",
      "after t-depth: 126 +/- 21.945386758952324\n",
      "improvement:  -75.97765363128492 %\n"
     ]
    }
   ],
   "source": [
    "print_result(experiment_m_body(5, 2, 0, 10))\n",
    "print_result(experiment_m_body(5, 2, 1, 10))\n",
    "print_result(experiment_m_body(5, 2, 2, 10))"
   ]
  },
  {
   "cell_type": "code",
   "execution_count": 10,
   "id": "43ce3f30",
   "metadata": {},
   "outputs": [
    {
     "name": "stdout",
     "output_type": "stream",
     "text": [
      "=====\n",
      "stat: size -> 32 , count -> 10 , parallel -> 0\n",
      "before t-depth: 188\n",
      "after t-depth: 200.6 +/- 7.1442284397967\n",
      "improvement:  -6.702127659574475 %\n",
      "=====\n",
      "stat: size -> 32 , count -> 10 , parallel -> 1\n",
      "before t-depth: 188\n",
      "after t-depth: 176.1 +/- 21.130309983528402\n",
      "improvement:  6.329787234042561 %\n",
      "=====\n",
      "stat: size -> 32 , count -> 10 , parallel -> 2\n",
      "before t-depth: 78.4\n",
      "after t-depth: 117.6 +/- 17.030560765870277\n",
      "improvement:  -49.99999999999998 %\n"
     ]
    }
   ],
   "source": [
    "print_result(experiment_m_body(5, 3, 0, 10))\n",
    "print_result(experiment_m_body(5, 3, 1, 10))\n",
    "print_result(experiment_m_body(5, 3, 2, 10))"
   ]
  },
  {
   "cell_type": "code",
   "execution_count": 11,
   "id": "52d1bc6e",
   "metadata": {},
   "outputs": [
    {
     "name": "stdout",
     "output_type": "stream",
     "text": [
      "=====\n",
      "stat: size -> 64 , count -> 10 , parallel -> 0\n",
      "before t-depth: 380\n",
      "after t-depth: 402.9 +/- 6.80367547726962\n",
      "improvement:  -6.02631578947368 %\n",
      "=====\n",
      "stat: size -> 64 , count -> 10 , parallel -> 1\n",
      "before t-depth: 380\n",
      "after t-depth: 297.1 +/- 58.834428696129955\n",
      "improvement:  21.815789473684198 %\n",
      "=====\n",
      "stat: size -> 64 , count -> 10 , parallel -> 2\n",
      "before t-depth: 110\n",
      "after t-depth: 177.8 +/- 20.033971149025845\n",
      "improvement:  -61.63636363636365 %\n"
     ]
    }
   ],
   "source": [
    "print_result(experiment_m_body(6, 1, 0, 10))\n",
    "print_result(experiment_m_body(6, 1, 1, 10))\n",
    "print_result(experiment_m_body(6, 1, 2, 10))"
   ]
  },
  {
   "cell_type": "code",
   "execution_count": 12,
   "id": "ab4791f6",
   "metadata": {},
   "outputs": [
    {
     "name": "stdout",
     "output_type": "stream",
     "text": [
      "=====\n",
      "stat: size -> 64 , count -> 10 , parallel -> 0\n",
      "before t-depth: 380\n",
      "after t-depth: 400.1 +/- 8.018104514160438\n",
      "improvement:  -5.289473684210533 %\n",
      "=====\n",
      "stat: size -> 64 , count -> 10 , parallel -> 1\n",
      "before t-depth: 380\n",
      "after t-depth: 297.6 +/- 40.22486793017474\n",
      "improvement:  21.684210526315784 %\n",
      "=====\n",
      "stat: size -> 64 , count -> 10 , parallel -> 2\n",
      "before t-depth: 136.8\n",
      "after t-depth: 201.4 +/- 25.160286166894046\n",
      "improvement:  -47.22222222222221 %\n",
      "=====\n",
      "stat: size -> 64 , count -> 10 , parallel -> 0\n",
      "before t-depth: 380\n",
      "after t-depth: 404.3 +/- 8.12465383877984\n",
      "improvement:  -6.394736842105275 %\n",
      "=====\n",
      "stat: size -> 64 , count -> 10 , parallel -> 1\n",
      "before t-depth: 380\n",
      "after t-depth: 291.8 +/- 42.13976744121875\n",
      "improvement:  23.21052631578947 %\n",
      "=====\n",
      "stat: size -> 64 , count -> 10 , parallel -> 2\n",
      "before t-depth: 159.2\n",
      "after t-depth: 196.7 +/- 21.29812198293549\n",
      "improvement:  -23.55527638190955 %\n"
     ]
    }
   ],
   "source": [
    "print_result(experiment_m_body(6, 2, 0, 10))\n",
    "print_result(experiment_m_body(6, 2, 1, 10))\n",
    "print_result(experiment_m_body(6, 2, 2, 10))\n",
    "print_result(experiment_m_body(6, 3, 0, 10))\n",
    "print_result(experiment_m_body(6, 3, 1, 10))\n",
    "print_result(experiment_m_body(6, 3, 2, 10))"
   ]
  }
 ],
 "metadata": {
  "kernelspec": {
   "display_name": "04_prepare-circuit-dA2R2Wo9",
   "language": "python",
   "name": "python3"
  },
  "language_info": {
   "codemirror_mode": {
    "name": "ipython",
    "version": 3
   },
   "file_extension": ".py",
   "mimetype": "text/x-python",
   "name": "python",
   "nbconvert_exporter": "python",
   "pygments_lexer": "ipython3",
   "version": "3.9.15"
  },
  "vscode": {
   "interpreter": {
    "hash": "82372b7afc66d724bc479055f96414d7c6da269bbcb2cf9422b87c08d5cc0971"
   }
  }
 },
 "nbformat": 4,
 "nbformat_minor": 5
}
